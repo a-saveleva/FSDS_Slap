{
 "cells": [
  {
   "cell_type": "markdown",
   "id": "dd728d2a-6527-411e-a61c-ec3fbee0b7ab",
   "metadata": {},
   "source": [
    "# Spatial Joins\n",
    "Perform some spatial data wrangling on the airbnb data then load spatial data (boroughs, lsoa) and join the airbnb data to the spatial data."
   ]
  },
  {
   "cell_type": "code",
   "execution_count": 1,
   "id": "119b546b-63e9-4a68-976b-3b37a83857e0",
   "metadata": {},
   "outputs": [],
   "source": [
    "# load packages\n",
    "import os\n",
    "import numpy as np\n",
    "import pandas as pd\n",
    "import geopandas as gpd\n",
    "import requests\n",
    "import zipfile\n",
    "import matplotlib.cm as cm\n",
    "import matplotlib.pyplot as plt"
   ]
  },
  {
   "cell_type": "code",
   "execution_count": null,
   "id": "62629026-8e6f-418f-8449-0729d85417a1",
   "metadata": {},
   "outputs": [],
   "source": [
    "# load the clean airbnb data\n",
    "path = \n",
    "\n",
    "# create a dataframe of the raw Inside Airbnb data\n",
    "df = pd.read_csv(url, low_memory=False)"
   ]
  },
  {
   "cell_type": "code",
   "execution_count": null,
   "id": "c332a1a6-e8c3-49df-a5b7-db9f00ff3410",
   "metadata": {},
   "outputs": [],
   "source": []
  }
 ],
 "metadata": {
  "kernelspec": {
   "display_name": "Python (base)",
   "language": "python",
   "name": "base"
  },
  "language_info": {
   "codemirror_mode": {
    "name": "ipython",
    "version": 3
   },
   "file_extension": ".py",
   "mimetype": "text/x-python",
   "name": "python",
   "nbconvert_exporter": "python",
   "pygments_lexer": "ipython3",
   "version": "3.11.9"
  }
 },
 "nbformat": 4,
 "nbformat_minor": 5
}
