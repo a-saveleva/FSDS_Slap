{
 "cells": [
  {
   "cell_type": "code",
   "execution_count": 249,
   "id": "fa2a5754-b30e-49fd-88f2-4d4f04fc5772",
   "metadata": {},
   "outputs": [],
   "source": [
    "import os\n",
    "import numpy as np\n",
    "import pandas as pd\n",
    "import geopandas as gpd\n",
    "\n",
    "from scipy.spatial.distance import pdist, squareform\n",
    "from scipy.cluster.hierarchy import fcluster, linkage\n",
    "from dateutil.relativedelta import relativedelta\n",
    "from datetime import datetime\n",
    "from PIL import Image\n",
    "import requests\n",
    "from io import BytesIO\n",
    "from shapely.geometry import Point\n",
    "\n",
    "pd.set_option('display.max_columns', None)\n",
    "pd.options.display.max_colwidth = 200"
   ]
  },
  {
   "cell_type": "markdown",
   "id": "f1f02838-8525-4d95-919b-ea6df7fba40d",
   "metadata": {},
   "source": [
    "Assuming that the dataset is already loaded before."
   ]
  },
  {
   "cell_type": "code",
   "execution_count": 250,
   "id": "a4a23136-e9de-4a68-9f14-fca6681d882d",
   "metadata": {},
   "outputs": [
    {
     "name": "stdout",
     "output_type": "stream",
     "text": [
      "Data frame is 91,778 x 75\n"
     ]
    }
   ],
   "source": [
    "date  = \"2023-12-10\"\n",
    "url  = f\"https://data.insideairbnb.com/united-kingdom/england/london/{date}/data/listings.csv.gz\"\n",
    "path = os.path.join('data','raw')\n",
    "fn   = url.split('/')[-1]\n",
    "df = pd.read_csv(os.path.join(path,fn), low_memory=False)\n",
    "\n",
    "print(f\"Data frame is {df.shape[0]:,} x {df.shape[1]}\")"
   ]
  },
  {
   "cell_type": "code",
   "execution_count": 251,
   "id": "b8e83bdf-9770-4cf0-9a8a-de0ecde0716d",
   "metadata": {},
   "outputs": [
    {
     "data": {
      "text/plain": [
       "<Axes: >"
      ]
     },
     "execution_count": 251,
     "metadata": {},
     "output_type": "execute_result"
    },
    {
     "data": {
      "image/png": "[encoded data removed]",
      "text/plain": [
       "<Figure size 640x480 with 1 Axes>"
      ]
     },
     "metadata": {},
     "output_type": "display_data"
    }
   ],
   "source": [
    "df['last_review'] = pd.to_datetime(df['last_review'])\n",
    "date = datetime.strptime(date, \"%Y-%m-%d\")\n",
    "df.last_review.hist()"
   ]
  },
  {
   "cell_type": "code",
   "execution_count": 252,
   "id": "c0fbaca0-5d27-41e4-bcd8-f5f3c803904d",
   "metadata": {},
   "outputs": [
    {
     "data": {
      "text/plain": [
       "last_review\n",
       "False    67655\n",
       "True     24123\n",
       "Name: count, dtype: int64"
      ]
     },
     "execution_count": 252,
     "metadata": {},
     "output_type": "execute_result"
    }
   ],
   "source": [
    "df.last_review.isnull().value_counts()"
   ]
  },
  {
   "cell_type": "code",
   "execution_count": 253,
   "id": "bc6f1272-ffbf-4e73-9b8f-1ec140dc54f8",
   "metadata": {},
   "outputs": [
    {
     "name": "stdout",
     "output_type": "stream",
     "text": [
      "Data frame after filtering last review date is 70,872 x 75\n"
     ]
    }
   ],
   "source": [
    "\"\"\"\n",
    "Converting review column to datetime, and selecting only the recently active listings. \n",
    "We also take Null values, because these might be new listings without reviews.\n",
    "\"\"\"\n",
    "df = df[(df['last_review'] > (date - relativedelta(years=1))) | (df['last_review'].isnull())]\n",
    "\n",
    "print(f\"Data frame after filtering last review date is {df.shape[0]:,} x {df.shape[1]}\")"
   ]
  },
  {
   "cell_type": "markdown",
   "id": "92ac6374-084d-4b0a-af2b-cf5c14dbe1b3",
   "metadata": {},
   "source": [
    "Making the same cleaning as in the base file."
   ]
  },
  {
   "cell_type": "code",
   "execution_count": 254,
   "id": "318b6fed-0222-49ef-aa69-90a2b5d0aa00",
   "metadata": {},
   "outputs": [
    {
     "name": "stdout",
     "output_type": "stream",
     "text": [
      "Data frame is 68,146 x 75\n"
     ]
    }
   ],
   "source": [
    "df[~(df.price.str.startswith('$', na=False))]\n",
    "money = ['price']\n",
    "for m in money:\n",
    "    df[m] = df[m].str.replace(r'[$,]', '', regex=True).astype('float')\n",
    "df_valid = df[~df['price'].isna()] # rows where price is valid\n",
    "\n",
    "ints  = ['id', 'host_id', 'host_total_listings_count', 'minimum_nights', 'maximum_nights', 'availability_365', 'number_of_reviews']\n",
    "\n",
    "for i in ints:\n",
    "    try:\n",
    "        df[i] = df[i].astype('float').astype('int')\n",
    "    except ValueError as e:\n",
    "        #print(\"  - !!!Converting to unsigned 16-bit integer!!!\")\n",
    "        df[i] = df[i].astype('float').astype(pd.UInt16Dtype())\n",
    "\n",
    "print(f\"Data frame is {df_valid.shape[0]:,} x {df_valid.shape[1]}\")"
   ]
  },
  {
   "cell_type": "markdown",
   "id": "73a2b68f-3c2a-444d-8b22-e1a5ef24e680",
   "metadata": {},
   "source": [
    "Looking for duplicates:"
   ]
  },
  {
   "cell_type": "code",
   "execution_count": 259,
   "id": "cdeefd08-00a1-4661-a9c4-49200494c990",
   "metadata": {},
   "outputs": [],
   "source": [
    "def find_duplicates(df_valid):\n",
    "    \"\"\"\n",
    "    The function looks at hosts with multiple listings and checks if they are within 300m radius (150m max location scattering as per Airbnb's anonymisation algorithm, x2).\n",
    "    It then estimates the number of genuine homes within the cluster.\n",
    "    \n",
    "    Returns a gdf with new columns: \n",
    "    'cluster_id' - each unique value is a cluster\n",
    "    'easting', 'northing' - used in calculating the proximity of listings\n",
    "    'prvt_rms_in_cluster','entr_hms_in_cluster' - summarises N of private rooms and entire homes within the cluster\n",
    "    'genuine', 'true_nrooms' - boolean column, and int column, with the following assumptions:\n",
    "\n",
    "    If the cluster has 0 entire homes, and N rooms, first room will be \"converted\" to an entire home, and the rest will be discarded. \n",
    "    The location of the point will be amended to represent centrepoint of all rooms in the cluster.\n",
    "    Record of the N of rooms will stay in col \"true_nrooms\"\n",
    "    If the cluster has rooms and entire homes, the homes will be treated as genuine homes, and rooms treated as duplicates of the genuine home. \n",
    "    With the current timeframes, further enquiries into uniqueness of homes vs rooms inside each cluster is not feasible.\n",
    "    \"\"\"\n",
    "    \"\"\"\n",
    "    We are looking for duplicates among multi-listing hosts. First, we filter by listings_count > 1.\n",
    "    \"\"\"\n",
    "    finddups = df_valid[df_valid[\"host_listings_count\"] > 1]\n",
    "    print(f\"There are {finddups.shape[0]} listings from multi-lister hosts\")\n",
    "    \n",
    "    \"\"\"\n",
    "    I convert the df into gdf, reproject into EPSG 27700, and put easting and northing into new columns.\n",
    "    \"\"\"\n",
    "    finddupsgdf = gpd.GeoDataFrame(finddups,\n",
    "          geometry=gpd.points_from_xy(finddups.longitude, finddups.latitude, crs='epsg:4326'))\n",
    "    \n",
    "    finddupsgdf = finddupsgdf.set_crs('EPSG:4326', allow_override=True)\n",
    "    finddups = finddupsgdf.to_crs('EPSG:27700', inplace=True)\n",
    "    # print(finddupsgdf.crs)\n",
    "    # finddupsgdf.plot()\n",
    "    \n",
    "    finddupsgdf['easting'] = finddupsgdf.geometry.x\n",
    "    finddupsgdf['northing'] = finddupsgdf.geometry.y\n",
    "    \n",
    "    \"\"\"\n",
    "    I perform cluster analysis and mark listings from the same host that are within 300m from each other \n",
    "    (150m max location scattering as per Airbnb's anonymisation algorithm, x2). They constitute a cluster, and we then assess if they are a duplicate or not.\n",
    "    The selected method computes pairwise distances  can calculate the distance matrix between all points in a group. \n",
    "    Before this method I tried KNN, but the listings were paired incorrectly. \n",
    "    cdist solved this, and it is relatively light on small groups (our dataset is large, but it is split into small groups - by host).\n",
    "    \"\"\"\n",
    "    # Initialize a column for cluster IDs\n",
    "    finddupsgdf['cluster_id'] = None\n",
    "    \n",
    "    # Process each host group\n",
    "    for host_id, group in finddupsgdf.groupby(\"host_id\"):\n",
    "        if len(group) > 1:  # Only proceed if there is more than 1 listing\n",
    "            coords = group[['easting', 'northing']].to_numpy()\n",
    "            \n",
    "            # Calculate pairwise distances using pdist (returns condensed distance matrix)\n",
    "            dist_matrix = pdist(coords)\n",
    "            \n",
    "            # Perform hierarchical clustering using the condensed distance matrix\n",
    "            linkage_matrix = linkage(dist_matrix, method='single')\n",
    "            clusters = fcluster(linkage_matrix, t=300, criterion='distance')\n",
    "            \n",
    "            # Assign clusters back to the original GeoDataFrame\n",
    "            finddupsgdf.loc[group.index, 'cluster_id'] = [f\"{host_id}-{cluster}\" for cluster in clusters]\n",
    "        else:\n",
    "            finddupsgdf.loc[group.index, 'cluster_id'] = None  # Single point, no clustering\n",
    "    \n",
    "    #creating gdf with clusters only\n",
    "    finddupsgdf = finddupsgdf[~finddupsgdf['cluster_id'].isna()]\n",
    "    finddupsgdf = finddupsgdf.loc[finddupsgdf.duplicated(subset='cluster_id', keep=False)]\n",
    "    \n",
    "    print(f\"Found {len(set(finddupsgdf.cluster_id))} clusters with {len(finddupsgdf)} listings within these clusters.\")\n",
    "    \n",
    "    \"\"\"\n",
    "    I calculate N of entire homes and rooms in each cluster.\n",
    "    Limitation found during EDA: \"bedrooms\" column in InsideAirbnb differs between scrapes. \n",
    "    \"2023-12-10\" scrape has NaN values in this column, while \"2024-09-06\" scrape has full data.\n",
    "    For both datasets, we use \"beds\" column as a substitute, because airbnb2024.bedrooms.median()/airbnb2024.beds.median() = 1\n",
    "    \"\"\"\n",
    "    # Initialize the columns\n",
    "    finddupsgdf['prvt_rms_in_cluster'] = None\n",
    "    finddupsgdf['entr_hms_in_cluster'] = None\n",
    "    \n",
    "    # Loop through each cluster by cluster_id\n",
    "    for i, group in finddupsgdf.groupby(\"cluster_id\"):\n",
    "        # Count number of entire homes and private rooms in the group\n",
    "        n_entire_homes = group[group['room_type'] == 'Entire home/apt'].shape[0]\n",
    "        n_private_rooms = group[group['room_type'] == 'Private room'].shape[0]\n",
    "    \n",
    "        # Assign these counts back to the original DataFrame\n",
    "        finddupsgdf.loc[group.index, 'entr_hms_in_cluster'] = n_entire_homes\n",
    "        finddupsgdf.loc[group.index, 'prvt_rms_in_cluster'] = n_private_rooms\n",
    "    \n",
    "    # null values in N of bedrooms will interfere with our analysis, therefore we drop them\n",
    "    finddupsgdf = finddupsgdf[finddupsgdf.beds.notna()]\n",
    "    print(f\"Data frame after filtering bedrooms Nans is {len(finddupsgdf)} listings long\")\n",
    "    \n",
    "    finddupsgdf['true_nrooms'] = finddupsgdf['beds'] #fill with these values for now\n",
    "    for i, group in finddupsgdf.groupby(\"cluster_id\"):\n",
    "        # If there are no \"Entire home/apt\" listings, only rooms. We assume they combine into an entire home, or are a large-scale commercial let\n",
    "        if (group['entr_hms_in_cluster'] == 0).any(): #using any because the values are the same within the group\n",
    "            finddupsgdf.loc[group.index, 'true_nrooms'] = len(group)\n",
    "    \n",
    "    #finddupsgdf.true_nrooms.hist(range={1,10})\n",
    "    \n",
    "    print(f\"There are {finddupsgdf[finddupsgdf['true_nrooms'] > 6].shape[0]} listings that are within clusters with more than 6 listings in each. These are likely to be flats converted to holiday accommodation. We are leaving them in for the purpose of the exercise. They belong to {len(set(finddupsgdf[finddupsgdf['true_nrooms'] > 6].host_id))} unique host IDs.\")\n",
    "    \"\"\"\n",
    "    I then determine whether listings are genuine unique homes, or rooms from one entire home.\n",
    "    If the cluster has 0 entire homes, and N rooms, first room will be \"converted\" to an entire home, and the rest will be discarded.\n",
    "    Record of the N of rooms will stay in col \"true_nrooms\"\n",
    "    If the cluster has rooms and entire homes, the homes will be treated as genuine homes, and rooms treated as duplicates of the genuine home\n",
    "    \"\"\"\n",
    "    finddupsgdf['genuine'] = None\n",
    "    \n",
    "    for cluster_id, group in finddupsgdf.groupby(\"cluster_id\"):\n",
    "        num_entire_homes = (group['room_type'] == 'Entire home/apt').sum()\n",
    "        \n",
    "        if num_entire_homes == 0:\n",
    "            # If only rooms are in the cluster\n",
    "            finddupsgdf.loc[group.index, 'genuine'] = False  # Mark all as duplicates\n",
    "            first_room_idx = group.index[0]  # Pick the first room as genuine\n",
    "            finddupsgdf.loc[first_room_idx, 'genuine'] = True  # First room becomes the genuine home\n",
    "            \"\"\" ... but the geometry is replaced with centroid x and y. \n",
    "            Without this the point and all associated rooms can be aggregated by different spatial unit, considering the scale of the location approximation (up to 150m from origin)\"\"\"\n",
    "            dissolved_geometry = group.geometry.union_all()  # Combine all geometries in the group\n",
    "            centroid = dissolved_geometry.centroid # Get the centroid of the combined geometry\n",
    "            finddupsgdf.at[first_room_idx, 'geometry'] = Point(centroid.x, centroid.y)\n",
    "        else:\n",
    "            # Cluster has both rooms and entire homes\n",
    "            finddupsgdf.loc[group.index, 'genuine'] = False  # Default all to duplicates\n",
    "            entire_home_indices = group[group['room_type'] == 'Entire home/apt'].index\n",
    "            finddupsgdf.loc[entire_home_indices, 'genuine'] = True  # Mark entire homes with true\n",
    "\n",
    "    # write valid data to be used in further analysis\n",
    "    # fn = {date}+\"inside_airbnb_clean.csv\"\n",
    "    # path = os.path.join('data','inside_airbnb')\n",
    "    \n",
    "    # if not os.path.exists(path):\n",
    "    #     print(f\"Creating {path} under {os.getcwd()}\")\n",
    "    #     os.makedirs(path)\n",
    "        \n",
    "    # df_valid.to_file(os.path.join(path,fn), index=False)\n",
    "\n",
    "    print(f\"The clustering exercise identified {len(finddupsgdf[finddupsgdf['genuine'] == False])} listings that are potentially duplicates of other listings.\")\n",
    "    #print(f\"The gdf has been saved into {path}\")\n",
    "\n",
    "    return finddupsgdf"
   ]
  },
  {
   "cell_type": "code",
   "execution_count": 260,
   "id": "b7769fea-9d77-4738-ae9f-f943d9a216e2",
   "metadata": {},
   "outputs": [
    {
     "name": "stdout",
     "output_type": "stream",
     "text": [
      "There are 41847 listings from multi-lister hosts\n",
      "Found 8629 clusters with 29253 listings within these clusters.\n",
      "Data frame after filtering bedrooms Nans is 28874 listings long\n",
      "There are 2065 listings that are within clusters with more than 6 listings in each. These are likely to be flats converted to holiday accommodation. We are leaving them in for the purpose of the exercise. They belong to 267 unique host IDs.\n",
      "The clustering exercise identified 9121 listings that are potentially duplicates of other listings.\n"
     ]
    }
   ],
   "source": [
    "df_valid_nodups = find_duplicates(df_valid)"
   ]
  },
  {
   "cell_type": "code",
   "execution_count": 261,
   "id": "dffeada6-2b07-460f-9360-9a844ee250c9",
   "metadata": {},
   "outputs": [
    {
     "data": {
      "text/plain": [
       "genuine\n",
       "True       19753\n",
       "False       9121\n",
       "Name: count, dtype: int64"
      ]
     },
     "execution_count": 261,
     "metadata": {},
     "output_type": "execute_result"
    }
   ],
   "source": [
    "df_valid_nodups[['genuine']].value_counts()"
   ]
  },
  {
   "cell_type": "markdown",
   "id": "2b630a8f-bc30-4676-8c87-43998ef847fc",
   "metadata": {},
   "source": [
    "We use samlples to test if the genuine==False listings are actually from one entire home."
   ]
  },
  {
   "cell_type": "code",
   "execution_count": 263,
   "id": "24954933-a4aa-466c-b63e-c4b984e215cb",
   "metadata": {},
   "outputs": [],
   "source": [
    "def check_genuine(df, random_state):\n",
    "    \"\"\"\n",
    "    Receives df and randon_state as args.\n",
    "    Displays the random ingenuine listing, and other listings from it's cluster.\n",
    "    Shows image thumbnails for all listings in the cluster.\n",
    "    Sometimes images are enough to see the similarity.\n",
    "    If not, click on the links (if recet dataset and URLs are valid), and check the listings manually. \n",
    "    Pay attention to how common areas look - kitchen, bathrooms, garden. If they are similar, it is a single entire home.\n",
    "    \"\"\"\n",
    "    listing_check = df[df['genuine'] == False].sample(1, random_state=random_state)\n",
    "    \n",
    "    print(f\"Let's have a look at the random listing. ID: {listing_check.id.values[0]}\")\n",
    "    print(f\"Cluster number {listing_check.cluster_id.values[0]}\")\n",
    "    print(\"All listings in this cluster:\")\n",
    "    same_cluster = df[df[\"cluster_id\"] == listing_check.cluster_id.values[0]]\n",
    "    print(same_cluster[[\"id\", \"listing_url\"]])\n",
    "    \n",
    "    # for idx, row in same_cluster.iterrows(): \n",
    "    #     try:\n",
    "    #         response = requests.get(row['picture_url'], timeout=10)\n",
    "    #         response.raise_for_status()  # Raise an error for HTTP issues\n",
    "    #         img = Image.open(BytesIO(response.content))\n",
    "    #         print(f\"Displaying image for Listing ID: {row['id']}\")\n",
    "    #         img.thumbnail((128, 128))\n",
    "    #         plt.figure()\n",
    "\n",
    "    #         #subplot(r,c) provide the no. of rows and columns\n",
    "    #         f, axarr = plt.subplots(4,1) \n",
    "            \n",
    "    #         # use the created array to output your multiple images. In this case I have stacked 4 images vertically\n",
    "    #         axarr[0].imshow(v_slice[0])\n",
    "    #         axarr[1].imshow(v_slice[1])\n",
    "    #         axarr[2].imshow(v_slice[2])\n",
    "    #         axarr[3].imshow(v_slice[3])\n",
    "            \n",
    "    #         display(img)\n",
    "    #     except Exception as e:\n",
    "    #         print(f\"Failed to retrieve image for Listing ID: {row['id']}. Error: {e}\")\n",
    "\n",
    "    for idx, row in same_cluster.iterrows():\n",
    "        try:\n",
    "            response = requests.get(row['picture_url'], timeout=10)\n",
    "            response.raise_for_status()  # Raise an error for HTTP issues\n",
    "            img = Image.open(BytesIO(response.content))\n",
    "            img.thumbnail((128, 128))  # Create a thumbnail for consistency\n",
    "            print(f\"Displaying image for Listing ID: {row['id']}\")\n",
    "    \n",
    "            # Use matplotlib for arranging subplots\n",
    "            n_images = len(same_cluster)\n",
    "            rows = (n_images // 4) + 1  # Adjust rows based on number of images\n",
    "            fig, axes = plt.subplots(rows, 4, figsize=(16, 4 * rows))\n",
    "            axes = axes.flatten()  # Flatten for easy indexing\n",
    "            \n",
    "            for i, ax in enumerate(axes):\n",
    "                if i < len(same_cluster):  # If within the number of available images\n",
    "                    response = requests.get(same_cluster.iloc[i]['picture_url'], timeout=10)\n",
    "                    img = Image.open(BytesIO(response.content))\n",
    "                    img.thumbnail((128, 128))\n",
    "                    ax.imshow(img)\n",
    "                    ax.axis(\"off\")  # Remove axis\n",
    "                    ax.set_title(f\"ID: {same_cluster.iloc[i]['id']}\")\n",
    "                else:  # Blank plots for extra subplots\n",
    "                    ax.axis(\"off\")\n",
    "    \n",
    "            plt.tight_layout()\n",
    "            plt.show()\n",
    "    \n",
    "        except Exception as e:\n",
    "            print(f\"Failed to retrieve image for Listing ID: {row['id']}. Error: {e}\")\n"
   ]
  },
  {
   "cell_type": "code",
   "execution_count": 264,
   "id": "0defba15-3c35-4089-88d0-6c024d2db62b",
   "metadata": {},
   "outputs": [
    {
     "name": "stdout",
     "output_type": "stream",
     "text": [
      "Let's have a look at the random listing. ID: 1030301764808021556\n",
      "Cluster number 527357185-1\n",
      "All listings in this cluster:\n",
      "                        id                                       listing_url\n",
      "2703    945557738617966947   https://www.airbnb.com/rooms/945557738617966947\n",
      "8860   1034394369524980642  https://www.airbnb.com/rooms/1034394369524980642\n",
      "16010   945572393528672141   https://www.airbnb.com/rooms/945572393528672141\n",
      "26582   942688162378817219   https://www.airbnb.com/rooms/942688162378817219\n",
      "32936   942681965380174958   https://www.airbnb.com/rooms/942681965380174958\n",
      "35804   943258290771243663   https://www.airbnb.com/rooms/943258290771243663\n",
      "44944   945578310163682976   https://www.airbnb.com/rooms/945578310163682976\n",
      "53617   971483825445873213   https://www.airbnb.com/rooms/971483825445873213\n",
      "61574  1030301764808021556  https://www.airbnb.com/rooms/1030301764808021556\n",
      "64199   942672406322044762   https://www.airbnb.com/rooms/942672406322044762\n",
      "85078   942663982065175505   https://www.airbnb.com/rooms/942663982065175505\n",
      "89172   942695304361375319   https://www.airbnb.com/rooms/942695304361375319\n",
      "89185   945566554119374092   https://www.airbnb.com/rooms/945566554119374092\n",
      "Displaying image for Listing ID: 945557738617966947\n",
      "Failed to retrieve image for Listing ID: 945557738617966947. Error: name 'plt' is not defined\n",
      "Displaying image for Listing ID: 1034394369524980642\n",
      "Failed to retrieve image for Listing ID: 1034394369524980642. Error: name 'plt' is not defined\n",
      "Displaying image for Listing ID: 945572393528672141\n",
      "Failed to retrieve image for Listing ID: 945572393528672141. Error: name 'plt' is not defined\n",
      "Displaying image for Listing ID: 942688162378817219\n",
      "Failed to retrieve image for Listing ID: 942688162378817219. Error: name 'plt' is not defined\n",
      "Displaying image for Listing ID: 942681965380174958\n",
      "Failed to retrieve image for Listing ID: 942681965380174958. Error: name 'plt' is not defined\n",
      "Displaying image for Listing ID: 943258290771243663\n",
      "Failed to retrieve image for Listing ID: 943258290771243663. Error: name 'plt' is not defined\n",
      "Displaying image for Listing ID: 945578310163682976\n",
      "Failed to retrieve image for Listing ID: 945578310163682976. Error: name 'plt' is not defined\n",
      "Displaying image for Listing ID: 971483825445873213\n",
      "Failed to retrieve image for Listing ID: 971483825445873213. Error: name 'plt' is not defined\n",
      "Displaying image for Listing ID: 1030301764808021556\n",
      "Failed to retrieve image for Listing ID: 1030301764808021556. Error: name 'plt' is not defined\n",
      "Displaying image for Listing ID: 942672406322044762\n",
      "Failed to retrieve image for Listing ID: 942672406322044762. Error: name 'plt' is not defined\n",
      "Displaying image for Listing ID: 942663982065175505\n",
      "Failed to retrieve image for Listing ID: 942663982065175505. Error: name 'plt' is not defined\n",
      "Displaying image for Listing ID: 942695304361375319\n",
      "Failed to retrieve image for Listing ID: 942695304361375319. Error: name 'plt' is not defined\n",
      "Displaying image for Listing ID: 945566554119374092\n",
      "Failed to retrieve image for Listing ID: 945566554119374092. Error: name 'plt' is not defined\n"
     ]
    }
   ],
   "source": [
    "check_genuine(df_valid_nodups, 9)"
   ]
  },
  {
   "cell_type": "code",
   "execution_count": null,
   "id": "67384832-cec7-4989-ab72-12c65c81ed1d",
   "metadata": {},
   "outputs": [],
   "source": [
    "check_genuine(df_valid_nodups, 9)"
   ]
  }
 ],
 "metadata": {
  "kernelspec": {
   "display_name": "Python (base)",
   "language": "python",
   "name": "base"
  },
  "language_info": {
   "codemirror_mode": {
    "name": "ipython",
    "version": 3
   },
   "file_extension": ".py",
   "mimetype": "text/x-python",
   "name": "python",
   "nbconvert_exporter": "python",
   "pygments_lexer": "ipython3",
   "version": "3.11.9"
  }
 },
 "nbformat": 4,
 "nbformat_minor": 5
}
