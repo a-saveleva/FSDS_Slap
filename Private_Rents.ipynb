{
 "cells": [
  {
   "cell_type": "code",
   "execution_count": 19,
   "id": "89d20285-6946-4231-ab37-3236eec92442",
   "metadata": {},
   "outputs": [
    {
     "name": "stdout",
     "output_type": "stream",
     "text": [
      "     Area code          Borough Name Time period  Average Rental Price\n",
      "0    E09000002  Barking and Dagenham  2023-04-01                1312.0\n",
      "1    E09000002  Barking and Dagenham  2023-05-01                1317.0\n",
      "2    E09000002  Barking and Dagenham  2023-06-01                1326.0\n",
      "3    E09000002  Barking and Dagenham  2023-07-01                1334.0\n",
      "4    E09000002  Barking and Dagenham  2023-08-01                1341.0\n",
      "..         ...                   ...         ...                   ...\n",
      "347  E09000033           Westminster  2023-10-01                2881.0\n",
      "348  E09000033           Westminster  2023-11-01                2866.0\n",
      "349  E09000033           Westminster  2023-12-01                2865.0\n",
      "350  E09000033           Westminster  2024-01-01                2890.0\n",
      "351  E09000033           Westminster  2024-02-01                2917.0\n",
      "\n",
      "[352 rows x 4 columns]\n"
     ]
    }
   ],
   "source": [
    "import numpy as np\n",
    "import pandas as pd\n",
    "\n",
    "#reading the data \n",
    "\n",
    "df_rentalprice = pd.read_csv(\"https://github.com/a-saveleva/FSDS_Slap/blob/main/private_Rent/onsrents.csv?raw=true\")\n",
    "\n",
    "# Filtering for London boroughs based on Area Code\n",
    "# London borough codes start with 'E09'\n",
    "df_london = df_rentalprice[df_rentalprice['Area code'].str.startswith('E09')]\n",
    "\n",
    "# Resetting the index of the filtered DataFrame\n",
    "df_london = df_london.reset_index(drop=True)\n",
    "\n",
    "# Ensure 'Time period' is in datetime format\n",
    "df_london['Time period'] = pd.to_datetime(df_london['Time period'], errors='coerce')\n",
    "\n",
    "# Define the start and end dates of the 2023-24 financial year\n",
    "start_date = pd.to_datetime(\"2023-04-01\")\n",
    "end_date = pd.to_datetime(\"2024-03-31\")\n",
    "\n",
    "# Filter the DataFrame to include only rows within this period\n",
    "filtered_rents = df_london[(df_london['Time period'] >= start_date) & (df_london['Time period'] <= end_date)]\n",
    "\n",
    "# Grouping by Area code and Time period, calculating the average index (assumed to be rental price)\n",
    "monthly_avg_rent = filtered_rents.groupby(['Area code', 'Area name', 'Time period'])['Rental price'].mean().reset_index()\n",
    "\n",
    "# Renaming the columns for clarity\n",
    "monthly_avg_rent.columns = ['Area code', 'Borough Name', 'Time period', 'Average Rental Price']\n",
    "\n",
    "# Display the result\n",
    "print(monthly_avg_rent)\n"
   ]
  },
  {
   "cell_type": "code",
   "execution_count": null,
   "id": "01b6f764-26b8-4ab1-b425-b8334e4633f1",
   "metadata": {},
   "outputs": [],
   "source": []
  }
 ],
 "metadata": {
  "kernelspec": {
   "display_name": "Python (base)",
   "language": "python",
   "name": "base"
  },
  "language_info": {
   "codemirror_mode": {
    "name": "ipython",
    "version": 3
   },
   "file_extension": ".py",
   "mimetype": "text/x-python",
   "name": "python",
   "nbconvert_exporter": "python",
   "pygments_lexer": "ipython3",
   "version": "3.11.9"
  }
 },
 "nbformat": 4,
 "nbformat_minor": 5
}
