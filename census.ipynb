{
 "cells": [
  {
   "cell_type": "code",
   "execution_count": 51,
   "id": "682f9261-dcb4-4b8d-9f64-6f25ded229ff",
   "metadata": {},
   "outputs": [],
   "source": [
    "#Import Libraries\n",
    "\n",
    "import numpy as np\n",
    "import pandas as pd\n",
    "from scipy.stats import entropy\n",
    "\n"
   ]
  },
  {
   "cell_type": "code",
   "execution_count": null,
   "id": "0da31a7a-3383-431d-9ac3-b7c0b69da9f9",
   "metadata": {},
   "outputs": [],
   "source": []
  },
  {
   "cell_type": "code",
   "execution_count": null,
   "id": "a9edfa35-36a0-45e1-8565-9b7cdd1b0a4f",
   "metadata": {},
   "outputs": [],
   "source": [
    "#LOAD IN LSOA DWELLINGS FROM CENSUS"
   ]
  },
  {
   "cell_type": "code",
   "execution_count": 54,
   "id": "f0c9953d-6ca1-41dc-a488-b35f935dd7f0",
   "metadata": {},
   "outputs": [
    {
     "data": {
      "text/plain": [
       "local authority: county / unitary (as of April 2023)     object\n",
       "mnemonic                                                 object\n",
       "2021                                                    float64\n",
       "dtype: object"
      ]
     },
     "execution_count": 54,
     "metadata": {},
     "output_type": "execute_result"
    }
   ],
   "source": [
    "df_censusLSOAdwell = pd.read_csv(\"https://github.com/a-saveleva/FSDS_Slap/blob/main/census_data/Census_LSOA_Dwellings.csv?raw=true\", \n",
    "                                  skiprows = 6, nrows = 4994)\n",
    "df_censusLSOAdwell.shape\n",
    "df_censusLSOAdwell.dtypes"
   ]
  },
  {
   "cell_type": "code",
   "execution_count": null,
   "id": "818aba50-28cc-40db-902e-6eec023df007",
   "metadata": {},
   "outputs": [],
   "source": []
  },
  {
   "cell_type": "code",
   "execution_count": null,
   "id": "833f9900-10ef-4034-80f0-dd81df71fabe",
   "metadata": {},
   "outputs": [],
   "source": []
  },
  {
   "cell_type": "code",
   "execution_count": null,
   "id": "5e959151-4e91-4649-ae10-403ad0c05279",
   "metadata": {},
   "outputs": [],
   "source": [
    "#LOAD IN BOROUGH LEVEL CENSUS DATA"
   ]
  },
  {
   "cell_type": "code",
   "execution_count": 55,
   "id": "e3ccc9c2-6966-4cac-a7c3-b09a55fbfd2d",
   "metadata": {},
   "outputs": [
    {
     "data": {
      "text/plain": [
       "local authority: county / unitary (as of April 2023)    object\n",
       "mnemonic                                                object\n",
       "Total                                                    int64\n",
       "Shared dwelling                                          int64\n",
       "Unshared dwelling                                        int64\n",
       "dtype: object"
      ]
     },
     "execution_count": 55,
     "metadata": {},
     "output_type": "execute_result"
    }
   ],
   "source": [
    "df_censusdwellings = pd.read_csv(\"https://github.com/a-saveleva/FSDS_Slap/blob/main/census_data/Census_dwellings.csv?raw=true\", \n",
    "                                  skiprows = 6, nrows = 33)\n",
    "df_censusdwellings.shape\n",
    "df_censusdwellings.dtypes"
   ]
  },
  {
   "cell_type": "code",
   "execution_count": 75,
   "id": "f8506896-0669-4e43-a0d9-f278943b44f8",
   "metadata": {},
   "outputs": [],
   "source": [
    "df_censusaccomm = pd.read_csv(\"https://github.com/a-saveleva/FSDS_Slap/blob/main/census_data/Census_Accommodation.csv?raw=true\", \n",
    "                                  skiprows = 6, nrows = 33)\n",
    "df_censusaccomm.shape\n",
    "df_censusaccomm.dtypes\n",
    "\n",
    "p_accomm = [df_censusaccomm['Detached'],df_censusaccomm['Semi-detached'],df_censusaccomm['Terraced'],df_censusaccomm['In a purpose-built block of flats or tenement'],\n",
    "           df_censusaccomm['Part of a converted or shared house, including bedsits'],df_censusaccomm['Part of another converted building, for example, former school, church or warehouse'],\n",
    "            df_censusaccomm['In a commercial building, for example, in an office building, hotel or over a shop']]\n",
    "\n",
    "df_censusaccomm[\"Accommm_entropy\"] = entropy(p_accomm, base=2)\n"
   ]
  },
  {
   "cell_type": "code",
   "execution_count": 92,
   "id": "43a70090-0504-486e-8bda-db22d25a33be",
   "metadata": {},
   "outputs": [],
   "source": [
    "df_censusbedocc = pd.read_csv(\"https://github.com/a-saveleva/FSDS_Slap/blob/main/census_data/Census_BedroomOcc.csv?raw=true\", \n",
    "                                  skiprows = 6, nrows = 33)\n",
    "df_censusbedocc.shape\n",
    "df_censusbedocc.dtypes\n",
    "\n",
    "p_bedocc = [df_censusbedocc['Occupancy rating of bedrooms: +2 or more'],df_censusbedocc['Occupancy rating of bedrooms: +1'],\n",
    "            df_censusbedocc['Occupancy rating of bedrooms: 0'],df_censusbedocc['Occupancy rating of bedrooms: -1'],\n",
    "            df_censusbedocc['Occupancy rating of bedrooms: -2 or less']]\n",
    "\n",
    "df_censusbedocc[\"Bedocc_entropy\"] = entropy(p_bedocc, base=2)\n",
    "#df_censusbedocc"
   ]
  },
  {
   "cell_type": "code",
   "execution_count": 76,
   "id": "69ea02be-7843-4541-873a-cc0ff1ce6818",
   "metadata": {},
   "outputs": [],
   "source": [
    "df_censuscarsvans = pd.read_csv(\"https://github.com/a-saveleva/FSDS_Slap/blob/main/census_data/Census_CarsVans.csv?raw=true\", \n",
    "                                  skiprows = 6, nrows = 33)\n",
    "df_censuscarsvans.shape\n",
    "df_censuscarsvans.dtypes\n",
    "\n",
    "p = [df_censuscarsvans['No cars or vans in household'], df_censuscarsvans['1 car or van in household'], df_censuscarsvans['2 cars or vans in household'],\n",
    "    df_censuscarsvans['3 or more cars or vans in household']]\n",
    "df_censuscarsvans[\"Cars_entropy\"] = entropy(p, base=2)\n",
    "\n",
    "#https://www.geeksforgeeks.org/how-to-compute-entropy-using-scipy/\n",
    "\n",
    "\n",
    "#df_censuscarsvans[\"TestVar\"] = df_censuscarsvans['No cars or vans in household']\n",
    "#df_censuscarsvans"
   ]
  },
  {
   "cell_type": "code",
   "execution_count": 80,
   "id": "ce99259f-1d4c-4a65-8a41-81c7cf2df754",
   "metadata": {},
   "outputs": [],
   "source": [
    "df_censusdepriv = pd.read_csv(\"https://github.com/a-saveleva/FSDS_Slap/blob/main/census_data/Census_Deprivation.csv?raw=true\", \n",
    "                                  skiprows = 6, nrows = 33)\n",
    "df_censusdepriv.shape\n",
    "df_censusdepriv.dtypes\n",
    "\n",
    "p_depriv = [df_censusdepriv['Household is not deprived in any dimension'],df_censusdepriv['Household is deprived in one dimension'],\n",
    "            df_censusdepriv['Household is deprived in two dimensions'], df_censusdepriv['Household is deprived in three dimensions'],\n",
    "            df_censusdepriv['Household is deprived in four dimensions']]\n",
    "\n",
    "df_censusdepriv[\"Depriv_entropy\"] = entropy(p_depriv, base=2)\n",
    "#df_censusdepriv"
   ]
  },
  {
   "cell_type": "code",
   "execution_count": 84,
   "id": "9488710e-2a02-49bc-bb19-a646391aea10",
   "metadata": {},
   "outputs": [],
   "source": [
    "df_censusnssec = pd.read_csv(\"https://github.com/a-saveleva/FSDS_Slap/blob/main/census_data/Census_NsSeC.csv?raw=true\", \n",
    "                                  skiprows = 6, nrows = 33)\n",
    "df_censusnssec.shape\n",
    "df_censusnssec.dtypes\n",
    "\n",
    "p_nssec = [df_censusnssec['L1, L2 and L3 Higher managerial, administrative and professional occupations'],\n",
    "           df_censusnssec['L4, L5 and L6 Lower managerial, administrative and professional occupations'],\n",
    "          df_censusnssec['L7 Intermediate occupations'],df_censusnssec['L8 and L9 Small employers and own account workers'],\n",
    "          df_censusnssec['L10 and L11 Lower supervisory and technical occupations'],df_censusnssec['L12 Semi-routine occupations'],\n",
    "          df_censusnssec['L13 Routine occupations'],df_censusnssec['L14.1 and L14.2 Never worked and long-term unemployed'],\n",
    "          df_censusnssec['L15 Full-time students']]\n",
    "\n",
    "df_censusnssec[\"NsSEC_entropy\"] = entropy(p_nssec, base=2)\n",
    "#df_censusnssec"
   ]
  },
  {
   "cell_type": "code",
   "execution_count": 62,
   "id": "fac58068-d298-48d1-bade-130adc8c50e4",
   "metadata": {},
   "outputs": [
    {
     "data": {
      "text/plain": [
       "2022 local authorities: county     object\n",
       "mnemonic                           object\n",
       "2021                              float64\n",
       "dtype: object"
      ]
     },
     "execution_count": 62,
     "metadata": {},
     "output_type": "execute_result"
    }
   ],
   "source": [
    "df_censuspopdens = pd.read_csv(\"https://github.com/a-saveleva/FSDS_Slap/blob/main/census_data/Census_PopDensity.csv?raw=true\", \n",
    "                                  skiprows = 6, nrows = 33)\n",
    "df_censuspopdens.shape\n",
    "df_censuspopdens.dtypes"
   ]
  },
  {
   "cell_type": "code",
   "execution_count": 88,
   "id": "3beb8ee2-3154-48bd-966a-e6a6992ae204",
   "metadata": {},
   "outputs": [],
   "source": [
    "df_censusaddress = pd.read_csv(\"https://github.com/a-saveleva/FSDS_Slap/blob/main/census_data/Census_Addresses.csv?raw=true\", \n",
    "                                  skiprows = 6, nrows = 33)\n",
    "df_censusaddress.shape\n",
    "df_censusaddress.dtypes\n",
    "\n",
    "p_address = [df_censusaddress['Address one year ago is the same as the address of enumeration'],\n",
    "             df_censusaddress['Address one year ago is student term-time or boarding school address in the UK'],\n",
    "            df_censusaddress['Migrant from within the UK: Address one year ago was in the UK'],\n",
    "             df_censusaddress['Migrant from outside the UK: Address one year ago was outside the UK']]\n",
    "\n",
    "df_censusaddress[\"Address_entropy\"] = entropy(p_address, base=2)\n",
    "#df_censusaddress"
   ]
  },
  {
   "cell_type": "code",
   "execution_count": null,
   "id": "94e10310-e076-42e3-ac34-72645989142c",
   "metadata": {},
   "outputs": [],
   "source": []
  },
  {
   "cell_type": "code",
   "execution_count": null,
   "id": "2c73a747-1a6c-4402-957e-11a3373acaf1",
   "metadata": {},
   "outputs": [],
   "source": [
    "#LOAD IN VACANT HOMES DATA"
   ]
  },
  {
   "cell_type": "code",
   "execution_count": 64,
   "id": "d0035189-4f16-4892-938e-10c413a8ecd5",
   "metadata": {},
   "outputs": [
    {
     "data": {
      "text/plain": [
       "Unnamed: 0     object\n",
       "Unnamed: 1     object\n",
       "2004          float64\n",
       "2005          float64\n",
       "2006          float64\n",
       "2007          float64\n",
       "2008          float64\n",
       "2009          float64\n",
       "2010          float64\n",
       "2011          float64\n",
       "2012          float64\n",
       "2013          float64\n",
       "2014          float64\n",
       "2015          float64\n",
       "2016          float64\n",
       "2017          float64\n",
       "2018          float64\n",
       "2019          float64\n",
       "2020          float64\n",
       "2021          float64\n",
       "2022          float64\n",
       "2023          float64\n",
       "dtype: object"
      ]
     },
     "execution_count": 64,
     "metadata": {},
     "output_type": "execute_result"
    }
   ],
   "source": [
    "#https://data.london.gov.uk/download/vacant-dwellings/c428a18b-9961-4b98-9cfe-b7f120114141/vacant-dwellings-borough%20%282%29.xlsx\n",
    "df_vacantprops = pd.read_excel(\"https://data.london.gov.uk/download/vacant-dwellings/c428a18b-9961-4b98-9cfe-b7f120114141/vacant-dwellings-borough%20%282%29.xlsx\", \n",
    "                                  sheet_name = 2, skiprows = 1, nrows = 33)\n",
    "df_vacantprops.shape\n",
    "df_vacantprops.dtypes\n"
   ]
  },
  {
   "cell_type": "code",
   "execution_count": null,
   "id": "06bd0341-e430-47de-b270-7117a282c047",
   "metadata": {},
   "outputs": [],
   "source": []
  },
  {
   "cell_type": "code",
   "execution_count": null,
   "id": "71a2b92a-6803-4f45-9471-a597ec39325e",
   "metadata": {},
   "outputs": [],
   "source": [
    "#LOAD IN MEDIAN HOUSE PRIVATE VALUES"
   ]
  },
  {
   "cell_type": "code",
   "execution_count": 26,
   "id": "3b391ea3-718a-473d-9d4f-1f75ccf35062",
   "metadata": {},
   "outputs": [
    {
     "name": "stdout",
     "output_type": "stream",
     "text": [
      "['Region/Country code', 'Region/Country name', 'Local authority code ', 'Local authority name', 'Year ending Dec 1995', 'Year ending Mar 1996', 'Year ending Jun 1996', 'Year ending Sep 1996', 'Year ending Dec 1996', 'Year ending Mar 1997', 'Year ending Jun 1997', 'Year ending Sep 1997', 'Year ending Dec 1997', 'Year ending Mar 1998', 'Year ending Jun 1998', 'Year ending Sep 1998', 'Year ending Dec 1998', 'Year ending Mar 1999', 'Year ending Jun 1999', 'Year ending Sep 1999', 'Year ending Dec 1999', 'Year ending Mar 2000', 'Year ending Jun 2000', 'Year ending Sep 2000', 'Year ending Dec 2000', 'Year ending Mar 2001', 'Year ending Jun 2001', 'Year ending Sep 2001', 'Year ending Dec 2001', 'Year ending Mar 2002', 'Year ending Jun 2002', 'Year ending Sep 2002', 'Year ending Dec 2002', 'Year ending Mar 2003', 'Year ending Jun 2003', 'Year ending Sep 2003', 'Year ending Dec 2003', 'Year ending Mar 2004', 'Year ending Jun 2004', 'Year ending Sep 2004', 'Year ending Dec 2004', 'Year ending Mar 2005', 'Year ending Jun 2005', 'Year ending Sep 2005', 'Year ending Dec 2005', 'Year ending Mar 2006', 'Year ending Jun 2006', 'Year ending Sep 2006', 'Year ending Dec 2006', 'Year ending Mar 2007', 'Year ending Jun 2007', 'Year ending Sep 2007', 'Year ending Dec 2007', 'Year ending Mar 2008', 'Year ending Jun 2008', 'Year ending Sep 2008', 'Year ending Dec 2008', 'Year ending Mar 2009', 'Year ending Jun 2009', 'Year ending Sep 2009', 'Year ending Dec 2009', 'Year ending Mar 2010', 'Year ending Jun 2010', 'Year ending Sep 2010', 'Year ending Dec 2010', 'Year ending Mar 2011', 'Year ending Jun 2011', 'Year ending Sep 2011', 'Year ending Dec 2011', 'Year ending Mar 2012', 'Year ending Jun 2012', 'Year ending Sep 2012', 'Year ending Dec 2012', 'Year ending Mar 2013', 'Year ending Jun 2013', 'Year ending Sep 2013', 'Year ending Dec 2013', 'Year ending Mar 2014', 'Year ending Jun 2014', 'Year ending Sep 2014', 'Year ending Dec 2014', 'Year ending Mar 2015', 'Year ending Jun 2015', 'Year ending Sep 2015', 'Year ending Dec 2015', 'Year ending Mar 2016', 'Year ending Jun 2016', 'Year ending Sep 2016', 'Year ending Dec 2016', 'Year ending Mar 2017', 'Year ending Jun 2017', 'Year ending Sep 2017', 'Year ending Dec 2017', 'Year ending Mar 2018', 'Year ending Jun 2018', 'Year ending Sep 2018', 'Year ending Dec 2018', 'Year ending Mar 2019', 'Year ending Jun 2019', 'Year ending Sep 2019', 'Year ending Dec 2019', 'Year ending Mar 2020', 'Year ending Jun 2020', 'Year ending Sep 2020', 'Year ending Dec 2020', 'Year ending Mar 2021', 'Year ending Jun 2021', 'Year ending Sep 2021', 'Year ending Dec 2021', 'Year ending Mar 2022', 'Year ending Jun 2022', 'Year ending Sep 2022', 'Year ending Dec 2022', 'Year ending Mar 2023']\n",
      "    Region/Country code Region/Country name Local authority code   \\\n",
      "182           E12000007              London             E09000001   \n",
      "183           E12000007              London             E09000002   \n",
      "184           E12000007              London             E09000003   \n",
      "185           E12000007              London             E09000004   \n",
      "186           E12000007              London             E09000005   \n",
      "\n",
      "     Local authority name  Year ending Dec 1995  Year ending Mar 1996  \\\n",
      "182        City of London              105000.0              112500.0   \n",
      "183  Barking and Dagenham               49000.0               49995.0   \n",
      "184                Barnet               85250.0               85000.0   \n",
      "185                Bexley               62000.0               62000.0   \n",
      "186                 Brent               68000.0               69000.0   \n",
      "\n",
      "     Year ending Jun 1996  Year ending Sep 1996  Year ending Dec 1996  \\\n",
      "182              112375.0              121500.0              124250.0   \n",
      "183               50000.0               49995.0               49995.0   \n",
      "184               85000.0               85500.0               87000.0   \n",
      "185               63250.0               63500.0               65000.0   \n",
      "186               70000.0               71000.0               73000.0   \n",
      "\n",
      "     Year ending Mar 1997  ...  Year ending Dec 2020  Year ending Mar 2021  \\\n",
      "182              127000.0  ...              883500.0              814000.0   \n",
      "183               49950.0  ...              325000.0              326000.0   \n",
      "184               89500.0  ...              560000.0              570000.0   \n",
      "185               67000.0  ...              375000.0              390000.0   \n",
      "186               75000.0  ...              505000.0              520000.0   \n",
      "\n",
      "     Year ending Jun 2021  Year ending Sep 2021  Year ending Dec 2021  \\\n",
      "182              771750.0              771750.0              797500.0   \n",
      "183              332000.0              335000.0              340000.0   \n",
      "184              570000.0              570000.0              575000.0   \n",
      "185              394000.0              390000.0              390000.0   \n",
      "186              523000.0              525000.0              525000.0   \n",
      "\n",
      "     Year ending Mar 2022  Year ending Jun 2022  Year ending Sep 2022  \\\n",
      "182              805000.0              802500.0              800000.0   \n",
      "183              345000.0              350000.0              365000.0   \n",
      "184              576300.0              589000.0              600000.0   \n",
      "185              390000.0              395000.0              416500.0   \n",
      "186              525000.0              533250.0              550000.0   \n",
      "\n",
      "     Year ending Dec 2022  Year ending Mar 2023  \n",
      "182              772500.0              790000.0  \n",
      "183              375000.0              380000.0  \n",
      "184              605150.0              615000.0  \n",
      "185              425000.0              425000.0  \n",
      "186              560000.0              565000.0  \n",
      "\n",
      "[5 rows x 114 columns]\n"
     ]
    }
   ],
   "source": [
    "#https://github.com/a-saveleva/FSDS_Slap/blob/main/house_prices/hpssadataset9medianpricepaidforadministrativegeographies.xls\n",
    "\n",
    "df_hp_median = pd.read_excel(\"https://github.com/a-saveleva/FSDS_Slap/blob/main/house_prices/hpssadataset9medianpricepaidforadministrativegeographies.xls?raw=true\", \n",
    "                                  sheet_name = 10, skiprows = 6, nrows = 331)\n",
    "df_hp_median.shape\n",
    "df_hp_median.dtypes\n",
    "\n",
    "column_names = list(df_hp_median.columns)\n",
    "print(column_names)\n",
    "\n",
    "df_median_London = df_hp_median[df_hp_median['Local authority code '].str.startswith('E09')]\n",
    "\n",
    "print(df_median_London.head())"
   ]
  },
  {
   "cell_type": "code",
   "execution_count": null,
   "id": "bc0fbe5f-e2f2-4554-b3aa-e91dacc52cb0",
   "metadata": {},
   "outputs": [],
   "source": []
  },
  {
   "cell_type": "code",
   "execution_count": null,
   "id": "63949baf-7213-4af9-9cbe-c830cd343bee",
   "metadata": {},
   "outputs": [],
   "source": [
    "#LOAD IN LOWER QUARTILE HOUSE PRIVATE VALUES\n",
    "#https://github.com/a-saveleva/FSDS_Slap/blob/main/house_prices/hpssadataset15lowerquartilepricepaidforadministrativegeographies.xls"
   ]
  },
  {
   "cell_type": "code",
   "execution_count": 28,
   "id": "9dfc6a4d-fd87-4da9-8063-fc1bee154d8c",
   "metadata": {},
   "outputs": [
    {
     "name": "stdout",
     "output_type": "stream",
     "text": [
      "['Region/Country code', 'Region/Country name', 'Local authority code ', 'Local authority name', 'Year ending Dec 1995', 'Year ending Mar 1996', 'Year ending Jun 1996', 'Year ending Sep 1996', 'Year ending Dec 1996', 'Year ending Mar 1997', 'Year ending Jun 1997', 'Year ending Sep 1997', 'Year ending Dec 1997', 'Year ending Mar 1998', 'Year ending Jun 1998', 'Year ending Sep 1998', 'Year ending Dec 1998', 'Year ending Mar 1999', 'Year ending Jun 1999', 'Year ending Sep 1999', 'Year ending Dec 1999', 'Year ending Mar 2000', 'Year ending Jun 2000', 'Year ending Sep 2000', 'Year ending Dec 2000', 'Year ending Mar 2001', 'Year ending Jun 2001', 'Year ending Sep 2001', 'Year ending Dec 2001', 'Year ending Mar 2002', 'Year ending Jun 2002', 'Year ending Sep 2002', 'Year ending Dec 2002', 'Year ending Mar 2003', 'Year ending Jun 2003', 'Year ending Sep 2003', 'Year ending Dec 2003', 'Year ending Mar 2004', 'Year ending Jun 2004', 'Year ending Sep 2004', 'Year ending Dec 2004', 'Year ending Mar 2005', 'Year ending Jun 2005', 'Year ending Sep 2005', 'Year ending Dec 2005', 'Year ending Mar 2006', 'Year ending Jun 2006', 'Year ending Sep 2006', 'Year ending Dec 2006', 'Year ending Mar 2007', 'Year ending Jun 2007', 'Year ending Sep 2007', 'Year ending Dec 2007', 'Year ending Mar 2008', 'Year ending Jun 2008', 'Year ending Sep 2008', 'Year ending Dec 2008', 'Year ending Mar 2009', 'Year ending Jun 2009', 'Year ending Sep 2009', 'Year ending Dec 2009', 'Year ending Mar 2010', 'Year ending Jun 2010', 'Year ending Sep 2010', 'Year ending Dec 2010', 'Year ending Mar 2011', 'Year ending Jun 2011', 'Year ending Sep 2011', 'Year ending Dec 2011', 'Year ending Mar 2012', 'Year ending Jun 2012', 'Year ending Sep 2012', 'Year ending Dec 2012', 'Year ending Mar 2013', 'Year ending Jun 2013', 'Year ending Sep 2013', 'Year ending Dec 2013', 'Year ending Mar 2014', 'Year ending Jun 2014', 'Year ending Sep 2014', 'Year ending Dec 2014', 'Year ending Mar 2015', 'Year ending Jun 2015', 'Year ending Sep 2015', 'Year ending Dec 2015', 'Year ending Mar 2016', 'Year ending Jun 2016', 'Year ending Sep 2016', 'Year ending Dec 2016', 'Year ending Mar 2017', 'Year ending Jun 2017', 'Year ending Sep 2017', 'Year ending Dec 2017', 'Year ending Mar 2018', 'Year ending Jun 2018', 'Year ending Sep 2018', 'Year ending Dec 2018', 'Year ending Mar 2019', 'Year ending Jun 2019', 'Year ending Sep 2019', 'Year ending Dec 2019', 'Year ending Mar 2020', 'Year ending Jun 2020', 'Year ending Sep 2020', 'Year ending Dec 2020', 'Year ending Mar 2021', 'Year ending Jun 2021', 'Year ending Sep 2021', 'Year ending Dec 2021', 'Year ending Mar 2022', 'Year ending Jun 2022', 'Year ending Sep 2022', 'Year ending Dec 2022', 'Year ending Mar 2023']\n",
      "    Region/Country code Region/Country name Local authority code   \\\n",
      "182           E12000007              London             E09000001   \n",
      "183           E12000007              London             E09000002   \n",
      "184           E12000007              London             E09000003   \n",
      "185           E12000007              London             E09000004   \n",
      "186           E12000007              London             E09000005   \n",
      "\n",
      "     Local authority name  Year ending Dec 1995  Year ending Mar 1996  \\\n",
      "182        City of London               80000.0               85750.0   \n",
      "183  Barking and Dagenham               40000.0               40000.0   \n",
      "184                Barnet               59950.0               59950.0   \n",
      "185                Bexley               48000.0               48000.0   \n",
      "186                 Brent               52000.0               53995.0   \n",
      "\n",
      "     Year ending Jun 1996  Year ending Sep 1996  Year ending Dec 1996  \\\n",
      "182               79500.0               90000.0               92000.0   \n",
      "183               40000.0               40750.0               41000.0   \n",
      "184               59500.0               59950.0               59950.0   \n",
      "185               48500.0               48500.0               50000.0   \n",
      "186               54295.0               54500.0               55000.0   \n",
      "\n",
      "     Year ending Mar 1997  ...  Year ending Dec 2020  Year ending Mar 2021  \\\n",
      "182                 96000  ...              649950.0              635000.0   \n",
      "183                 41500  ...              285000.0              285000.0   \n",
      "184                 60000  ...              400000.0              410000.0   \n",
      "185                 51175  ...              302500.0              312500.0   \n",
      "186                 55000  ...              385000.0              385000.0   \n",
      "\n",
      "     Year ending Jun 2021  Year ending Sep 2021  Year ending Dec 2021  \\\n",
      "182              604250.0                595000              616000.0   \n",
      "183              290000.0                295000              295000.0   \n",
      "184              410000.0                410000              415000.0   \n",
      "185              317500.0                313000              310500.0   \n",
      "186              392000.0                390000              380000.0   \n",
      "\n",
      "     Year ending Mar 2022  Year ending Jun 2022  Year ending Sep 2022  \\\n",
      "182              595000.0              598550.0              550000.0   \n",
      "183              299000.0              295000.0              285000.0   \n",
      "184              415000.0              415000.0              420000.0   \n",
      "185              308000.0              305000.0              320000.0   \n",
      "186              385000.0              385000.0              389000.0   \n",
      "\n",
      "     Year ending Dec 2022  Year ending Mar 2023  \n",
      "182              550000.0              568000.0  \n",
      "183              310000.0              305000.0  \n",
      "184              415000.0              410000.0  \n",
      "185              325500.0              332000.0  \n",
      "186              395000.0              391720.0  \n",
      "\n",
      "[5 rows x 114 columns]\n"
     ]
    }
   ],
   "source": [
    "df_hp_lower = pd.read_excel(\"https://github.com/a-saveleva/FSDS_Slap/blob/main/house_prices/hpssadataset15lowerquartilepricepaidforadministrativegeographies.xls?raw=true\", \n",
    "                                  sheet_name = 10, skiprows = 6, nrows = 331)\n",
    "df_hp_lower.shape\n",
    "df_hp_lower.dtypes\n",
    "\n",
    "column_names = list(df_hp_lower.columns)\n",
    "print(column_names)\n",
    "\n",
    "df_lower_London = df_hp_lower[df_hp_lower['Local authority code '].str.startswith('E09')]\n",
    "\n",
    "print(df_lower_London.head())"
   ]
  },
  {
   "cell_type": "code",
   "execution_count": null,
   "id": "9cb2a468-2840-4d79-9ec7-83fd98640065",
   "metadata": {},
   "outputs": [],
   "source": []
  },
  {
   "cell_type": "code",
   "execution_count": null,
   "id": "8cfd09e7-9395-4741-a8e2-4a12ce83a15b",
   "metadata": {},
   "outputs": [],
   "source": []
  },
  {
   "cell_type": "code",
   "execution_count": null,
   "id": "32747e83-090f-47ce-aec5-b41a87ebe697",
   "metadata": {},
   "outputs": [],
   "source": []
  },
  {
   "cell_type": "code",
   "execution_count": null,
   "id": "4b0d1087-083f-44a7-accf-d486651db76c",
   "metadata": {},
   "outputs": [],
   "source": []
  }
 ],
 "metadata": {
  "kernelspec": {
   "display_name": "Python (base)",
   "language": "python",
   "name": "base"
  },
  "language_info": {
   "codemirror_mode": {
    "name": "ipython",
    "version": 3
   },
   "file_extension": ".py",
   "mimetype": "text/x-python",
   "name": "python",
   "nbconvert_exporter": "python",
   "pygments_lexer": "ipython3",
   "version": "3.11.9"
  }
 },
 "nbformat": 4,
 "nbformat_minor": 5
}
