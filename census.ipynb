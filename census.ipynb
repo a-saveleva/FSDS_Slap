{
 "cells": [
  {
   "cell_type": "code",
   "execution_count": 28,
   "id": "682f9261-dcb4-4b8d-9f64-6f25ded229ff",
   "metadata": {},
   "outputs": [],
   "source": [
    "#Import Libraries\n",
    "\n",
    "import numpy as np\n",
    "import pandas as pd\n"
   ]
  },
  {
   "cell_type": "code",
   "execution_count": null,
   "id": "0da31a7a-3383-431d-9ac3-b7c0b69da9f9",
   "metadata": {},
   "outputs": [],
   "source": []
  },
  {
   "cell_type": "code",
   "execution_count": null,
   "id": "a9edfa35-36a0-45e1-8565-9b7cdd1b0a4f",
   "metadata": {},
   "outputs": [],
   "source": []
  },
  {
   "cell_type": "code",
   "execution_count": null,
   "id": "833f9900-10ef-4034-80f0-dd81df71fabe",
   "metadata": {},
   "outputs": [],
   "source": []
  },
  {
   "cell_type": "code",
   "execution_count": null,
   "id": "5e959151-4e91-4649-ae10-403ad0c05279",
   "metadata": {},
   "outputs": [],
   "source": [
    "#LOAD IN BOROUGH LEVEL CENSUS DATA"
   ]
  },
  {
   "cell_type": "code",
   "execution_count": 29,
   "id": "e3ccc9c2-6966-4cac-a7c3-b09a55fbfd2d",
   "metadata": {},
   "outputs": [
    {
     "data": {
      "text/plain": [
       "(33, 5)"
      ]
     },
     "execution_count": 29,
     "metadata": {},
     "output_type": "execute_result"
    }
   ],
   "source": [
    "df_censusdwellings = pd.read_csv(\"https://github.com/a-saveleva/FSDS_Slap/blob/main/census_data/Census_dwellings.csv?raw=true\", \n",
    "                                  skiprows = 6, nrows = 33)\n",
    "df_censusdwellings.shape"
   ]
  },
  {
   "cell_type": "code",
   "execution_count": 32,
   "id": "f8506896-0669-4e43-a0d9-f278943b44f8",
   "metadata": {},
   "outputs": [
    {
     "data": {
      "text/plain": [
       "(33, 11)"
      ]
     },
     "execution_count": 32,
     "metadata": {},
     "output_type": "execute_result"
    }
   ],
   "source": [
    "df_censusaccomm = pd.read_csv(\"https://github.com/a-saveleva/FSDS_Slap/blob/main/census_data/Census_Accommodation.csv?raw=true\", \n",
    "                                  skiprows = 6, nrows = 33)\n",
    "df_censusaccomm.shape"
   ]
  },
  {
   "cell_type": "code",
   "execution_count": 33,
   "id": "43a70090-0504-486e-8bda-db22d25a33be",
   "metadata": {},
   "outputs": [
    {
     "data": {
      "text/plain": [
       "(33, 8)"
      ]
     },
     "execution_count": 33,
     "metadata": {},
     "output_type": "execute_result"
    }
   ],
   "source": [
    "df_censusbedocc = pd.read_csv(\"https://github.com/a-saveleva/FSDS_Slap/blob/main/census_data/Census_BedroomOcc.csv?raw=true\", \n",
    "                                  skiprows = 6, nrows = 33)\n",
    "df_censusbedocc.shape"
   ]
  },
  {
   "cell_type": "code",
   "execution_count": 34,
   "id": "69ea02be-7843-4541-873a-cc0ff1ce6818",
   "metadata": {},
   "outputs": [
    {
     "data": {
      "text/plain": [
       "(33, 7)"
      ]
     },
     "execution_count": 34,
     "metadata": {},
     "output_type": "execute_result"
    }
   ],
   "source": [
    "df_censuscarsvans = pd.read_csv(\"https://github.com/a-saveleva/FSDS_Slap/blob/main/census_data/Census_CarsVans.csv?raw=true\", \n",
    "                                  skiprows = 6, nrows = 33)\n",
    "df_censuscarsvans.shape"
   ]
  },
  {
   "cell_type": "code",
   "execution_count": 35,
   "id": "ce99259f-1d4c-4a65-8a41-81c7cf2df754",
   "metadata": {},
   "outputs": [
    {
     "data": {
      "text/plain": [
       "(33, 8)"
      ]
     },
     "execution_count": 35,
     "metadata": {},
     "output_type": "execute_result"
    }
   ],
   "source": [
    "df_censusdepriv = pd.read_csv(\"https://github.com/a-saveleva/FSDS_Slap/blob/main/census_data/Census_Deprivation.csv?raw=true\", \n",
    "                                  skiprows = 6, nrows = 33)\n",
    "df_censusdepriv.shape"
   ]
  },
  {
   "cell_type": "code",
   "execution_count": 36,
   "id": "9488710e-2a02-49bc-bb19-a646391aea10",
   "metadata": {},
   "outputs": [
    {
     "data": {
      "text/plain": [
       "(33, 12)"
      ]
     },
     "execution_count": 36,
     "metadata": {},
     "output_type": "execute_result"
    }
   ],
   "source": [
    "df_censusnssec = pd.read_csv(\"https://github.com/a-saveleva/FSDS_Slap/blob/main/census_data/Census_NsSeC.csv?raw=true\", \n",
    "                                  skiprows = 6, nrows = 33)\n",
    "df_censusnssec.shape"
   ]
  },
  {
   "cell_type": "code",
   "execution_count": 37,
   "id": "fac58068-d298-48d1-bade-130adc8c50e4",
   "metadata": {},
   "outputs": [
    {
     "data": {
      "text/plain": [
       "(33, 3)"
      ]
     },
     "execution_count": 37,
     "metadata": {},
     "output_type": "execute_result"
    }
   ],
   "source": [
    "df_censuspopdens = pd.read_csv(\"https://github.com/a-saveleva/FSDS_Slap/blob/main/census_data/Census_PopDensity.csv?raw=true\", \n",
    "                                  skiprows = 6, nrows = 33)\n",
    "df_censuspopdens.shape"
   ]
  },
  {
   "cell_type": "code",
   "execution_count": null,
   "id": "3beb8ee2-3154-48bd-966a-e6a6992ae204",
   "metadata": {},
   "outputs": [],
   "source": []
  }
 ],
 "metadata": {
  "kernelspec": {
   "display_name": "Python (base)",
   "language": "python",
   "name": "base"
  },
  "language_info": {
   "codemirror_mode": {
    "name": "ipython",
    "version": 3
   },
   "file_extension": ".py",
   "mimetype": "text/x-python",
   "name": "python",
   "nbconvert_exporter": "python",
   "pygments_lexer": "ipython3",
   "version": "3.11.9"
  }
 },
 "nbformat": 4,
 "nbformat_minor": 5
}
